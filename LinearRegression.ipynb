{
  "nbformat": 4,
  "nbformat_minor": 0,
  "metadata": {
    "kernelspec": {
      "display_name": "Python 3",
      "language": "python",
      "name": "python3"
    },
    "language_info": {
      "codemirror_mode": {
        "name": "ipython",
        "version": 3
      },
      "file_extension": ".py",
      "mimetype": "text/x-python",
      "name": "python",
      "nbconvert_exporter": "python",
      "pygments_lexer": "ipython3",
      "version": "3.7.3"
    },
    "colab": {
      "name": "LinearRegression.ipynb",
      "provenance": [],
      "collapsed_sections": [],
      "include_colab_link": true
    }
  },
  "cells": [
    {
      "cell_type": "markdown",
      "metadata": {
        "id": "view-in-github",
        "colab_type": "text"
      },
      "source": [
        "<a href=\"https://colab.research.google.com/github/SarangMohaniraj/ArtificialIntelligence/blob/master/LinearRegression.ipynb\" target=\"_parent\"><img src=\"https://colab.research.google.com/assets/colab-badge.svg\" alt=\"Open In Colab\"/></a>"
      ]
    },
    {
      "cell_type": "markdown",
      "metadata": {
        "id": "EiJnDaUHAbZP",
        "colab_type": "text"
      },
      "source": [
        "# Linear Regression\n",
        "[![Open In Colab](https://colab.research.google.com/assets/colab-badge.svg)](https://colab.research.google.com/drive/1gcKcnQKu7BTl2I3Y6d6lVIlaJiTcVZKR)"
      ]
    },
    {
      "cell_type": "markdown",
      "metadata": {
        "id": "hQU6dGizAbZS",
        "colab_type": "text"
      },
      "source": [
        "Linear Regression is a basic analysis technique that uses the data to find a linear relationship. It is used to predict an output. It is generally used in statistics, but it is used in Machine Learning to minimize error.\n",
        "\n",
        "[Interactive Ordinary Least Squares Regression Demo](http://setosa.io/ev/ordinary-least-squares-regression/)"
      ]
    },
    {
      "cell_type": "markdown",
      "metadata": {
        "id": "39d1SidiAbZU",
        "colab_type": "text"
      },
      "source": [
        "## Basic Concepts"
      ]
    },
    {
      "cell_type": "markdown",
      "metadata": {
        "id": "CNHOr1FnAbZV",
        "colab_type": "text"
      },
      "source": [
        "**Input Variable**\n",
        "The variable used to predict the value of the output variable. Generally referred to as **X**.\n",
        "\n",
        "**Output Variable**\n",
        "The variable we want to predict. Generally referred to as **Y**.\n",
        "\n",
        "\n",
        "The most common style is **Ordinary Least Squares (OLS) Regression**.\n",
        "The representation of the model is $ \\bf{ \\hat{y} = b_0 + b_1 x} $"
      ]
    },
    {
      "cell_type": "markdown",
      "metadata": {
        "id": "PPYz9sEIAbZW",
        "colab_type": "text"
      },
      "source": [
        "## Data Preparation"
      ]
    },
    {
      "cell_type": "markdown",
      "metadata": {
        "id": "a22_uzxkAbZX",
        "colab_type": "text"
      },
      "source": [
        "* Transform data for linear relationship (ex. log transform for linear relationships)\n",
        "* Remove noise such as outliers\n",
        "* Rescale inputs using standardization or normalization\n",
        "\n",
        "The data in this example will not need to be adjusted"
      ]
    },
    {
      "cell_type": "code",
      "metadata": {
        "id": "YKBb-g0VAbZY",
        "colab_type": "code",
        "outputId": "678cc6d4-ac08-4ff5-f525-4e9324f83a03",
        "colab": {
          "base_uri": "https://localhost:8080/",
          "height": 279
        }
      },
      "source": [
        "import numpy as np\n",
        "from matplotlib import pyplot as plt\n",
        "%matplotlib inline\n",
        "\n",
        "\n",
        "rng = np.random.RandomState(123)\n",
        "mean = [100, 200]\n",
        "cov = [[1, 0.9], [0.9, 1]]\n",
        "sample = rng.multivariate_normal(mean, cov, size=100)\n",
        "x, y = sample[:, 0], sample[:, 1]\n",
        "\n",
        "plt.scatter(x, y)\n",
        "plt.xlabel('x')\n",
        "plt.ylabel('y')\n",
        "plt.show()"
      ],
      "execution_count": 0,
      "outputs": [
        {
          "output_type": "display_data",
          "data": {
            "image/png": "[encoded data removed]",
            "text/plain": [
              "<Figure size 432x288 with 1 Axes>"
            ]
          },
          "metadata": {
            "tags": []
          }
        }
      ]
    },
    {
      "cell_type": "markdown",
      "metadata": {
        "id": "aVofax04AbZg",
        "colab_type": "text"
      },
      "source": [
        "vstack stacks the two arrays vertically, and corrcoef creates a correlation coefficient matrix between the x and y values"
      ]
    },
    {
      "cell_type": "code",
      "metadata": {
        "id": "TXkbf_n6AbZh",
        "colab_type": "code",
        "outputId": "f06d15aa-7daa-4a4e-90a4-d5ec0d64776a",
        "colab": {
          "base_uri": "https://localhost:8080/",
          "height": 51
        }
      },
      "source": [
        "np.corrcoef(np.vstack([x,y]))"
      ],
      "execution_count": 0,
      "outputs": [
        {
          "output_type": "execute_result",
          "data": {
            "text/plain": [
              "array([[1.        , 0.87552229],\n",
              "       [0.87552229, 1.        ]])"
            ]
          },
          "metadata": {
            "tags": []
          },
          "execution_count": 2
        }
      ]
    },
    {
      "cell_type": "markdown",
      "metadata": {
        "id": "CzjG9VKYAbZl",
        "colab_type": "text"
      },
      "source": [
        "covariance: $ \\frac{1}{n} \\sum (x_i - \\bar{x})(y_i - \\bar{y}) $\n",
        "\n",
        "variance: $ \\sigma^{2}_{x} = \\frac{1}{n} \\sum (x_i - \\bar{x})^2 $\n",
        "\n",
        "slope: $ b_1 = \\frac{\\text{covariance}}{\\text{variance}} = \\frac{\\sum (x_i - \\bar{x})(y_i - \\bar{y})}{\\sum (x_i - \\bar{x})^2} $ \n",
        "\n",
        "y-intercept: $ b_0 = \\bar{y} - b_1 \\bar{x}$"
      ]
    },
    {
      "cell_type": "markdown",
      "metadata": {
        "id": "qZPNQJieAbZm",
        "colab_type": "text"
      },
      "source": [
        "## 1. Ordinary Least Squares Regression Using Classical Statistics"
      ]
    },
    {
      "cell_type": "code",
      "metadata": {
        "id": "eGAeZ0XNAbZn",
        "colab_type": "code",
        "outputId": "d1327fc6-9042-49e8-b48e-3502819843bc",
        "colab": {
          "base_uri": "https://localhost:8080/",
          "height": 51
        }
      },
      "source": [
        "covariance = np.cov(np.vstack((x,y)), ddof=0)[0,1] #ddof = 0 creates a simple mean\n",
        "variance = np.var(x, ddof = 0)\n",
        "\n",
        "b1 = covariance/variance #slope\n",
        "b0 = np.mean(y) - b1 * np.mean(x) #y-intercept\n",
        "\n",
        "print('slope: %.2f' % b1)\n",
        "print('y-intercept: %.2f' % b0)"
      ],
      "execution_count": 0,
      "outputs": [
        {
          "output_type": "stream",
          "text": [
            "slope: 0.84\n",
            "y-intercept: 115.59\n"
          ],
          "name": "stdout"
        }
      ]
    },
    {
      "cell_type": "markdown",
      "metadata": {
        "id": "mbi0vSFEAbZs",
        "colab_type": "text"
      },
      "source": [
        "## 2. Ordinary Least Squares Regression Using Linear Algebra"
      ]
    },
    {
      "cell_type": "markdown",
      "metadata": {
        "id": "wg4GmncjAbZt",
        "colab_type": "text"
      },
      "source": [
        "$$\\hat{c} = (X^T X)^{-1} X^T y$$\n",
        "[Proof of the Matrix Approach](https://medium.com/@andrew.chamberlain/the-linear-algebra-view-of-least-squares-regression-f67044b7f39b)"
      ]
    },
    {
      "cell_type": "code",
      "metadata": {
        "id": "GrAWJMQ-AbZu",
        "colab_type": "code",
        "outputId": "f9e7eef5-3094-4404-bca5-5ba56907d4bf",
        "colab": {
          "base_uri": "https://localhost:8080/",
          "height": 51
        }
      },
      "source": [
        "X = x[:, np.newaxis] #transforming x into a column vector\n",
        "\n",
        "#add column vector of ones\n",
        "Xb = np.hstack((np.ones((X.shape[0],1)),X))\n",
        "b = [np.zeros(X.shape[1])]\n",
        "\n",
        "z = np.linalg.inv(np.dot(Xb.T, Xb))\n",
        "b = np.dot(z, np.dot(Xb.T, y)) #final matrix of y-intercept and slope\n",
        "b0, b1 = b[0], b[1]\n",
        "\n",
        "print('slope: %.2f' % b1)\n",
        "print('y-intercept: %.2f' % b0)"
      ],
      "execution_count": 0,
      "outputs": [
        {
          "output_type": "stream",
          "text": [
            "slope: 0.84\n",
            "y-intercept: 115.59\n"
          ],
          "name": "stdout"
        }
      ]
    },
    {
      "cell_type": "markdown",
      "metadata": {
        "id": "PHIbaGOYAbZz",
        "colab_type": "text"
      },
      "source": [
        "## 3. Using a Pre-Implemented Function"
      ]
    },
    {
      "cell_type": "markdown",
      "metadata": {
        "id": "jC_eLJ9wAbZ0",
        "colab_type": "text"
      },
      "source": [
        "There are many libraries, but this example uses Numpy"
      ]
    },
    {
      "cell_type": "code",
      "metadata": {
        "id": "63UlQHk7AbZ0",
        "colab_type": "code",
        "outputId": "7ed3aaba-1c16-4782-c796-6690a925fa7d",
        "colab": {
          "base_uri": "https://localhost:8080/",
          "height": 51
        }
      },
      "source": [
        "b = np.polyfit(x, y, deg=1) #Least squares polynomial fit\n",
        "b0, b1 = b[1], b[0]\n",
        "\n",
        "print('slope: %.2f' % b1)\n",
        "print('y-intercept: %.2f' % b0)"
      ],
      "execution_count": 0,
      "outputs": [
        {
          "output_type": "stream",
          "text": [
            "slope: 0.84\n",
            "y-intercept: 115.59\n"
          ],
          "name": "stdout"
        }
      ]
    },
    {
      "cell_type": "markdown",
      "metadata": {
        "id": "jeCZnGU9AbZ3",
        "colab_type": "text"
      },
      "source": [
        "## Show Line of Fit"
      ]
    },
    {
      "cell_type": "code",
      "metadata": {
        "id": "zZ8jbiFaAbZ4",
        "colab_type": "code",
        "outputId": "cc37b794-16dd-4e76-e7de-0610214e4a34",
        "colab": {
          "base_uri": "https://localhost:8080/",
          "height": 279
        }
      },
      "source": [
        "endpointsX = np.array([np.min(x), np.max(x)]) #min and max x values\n",
        "endpointsY = b0 + endpointsX*b1 #use slope to find min and max y values to know the endpoints of the line to graph it\n",
        "\n",
        "plt.figure()\n",
        "plt.plot(x, y, marker='o', linestyle='') #scatterplot\n",
        "plt.plot(endpointsX, endpointsY) #linear model\n",
        "plt.xlabel('x')\n",
        "plt.ylabel('y')\n",
        "plt.show()"
      ],
      "execution_count": 0,
      "outputs": [
        {
          "output_type": "display_data",
          "data": {
            "image/png": "[encoded data removed]",
            "text/plain": [
              "<Figure size 432x288 with 1 Axes>"
            ]
          },
          "metadata": {
            "tags": []
          }
        }
      ]
    },
    {
      "cell_type": "markdown",
      "metadata": {
        "id": "vwCr-ZC_AbZ7",
        "colab_type": "text"
      },
      "source": [
        "## Coefficient of Determination"
      ]
    },
    {
      "cell_type": "markdown",
      "metadata": {
        "id": "cQTRRaSCAbZ8",
        "colab_type": "text"
      },
      "source": [
        "Assesses how well a model explains and predicts future outcomes"
      ]
    },
    {
      "cell_type": "markdown",
      "metadata": {
        "id": "aG3VffOEAbZ9",
        "colab_type": "text"
      },
      "source": [
        "$ \\text{Total Sum of Squares: } SS_{total} = \\sum_{i=1}^{n} ( y_i - \\bar{y_i})^2$\n",
        "\n",
        "$ \\text{Residual Sum of Squares: } SS_{residual} = \\sum_{i=1}^{n} ( \\hat{y_i} - \\bar{y_i})^2$\n",
        "\n",
        "$ \\text{Coefficient of Determination: } r^2 = \\frac{SS_{residual}}{SS_{total}}$"
      ]
    },
    {
      "cell_type": "code",
      "metadata": {
        "id": "64x1hFuSAbZ9",
        "colab_type": "code",
        "outputId": "9040a41d-797c-42b6-8b0c-827db64812e2",
        "colab": {
          "base_uri": "https://localhost:8080/",
          "height": 34
        }
      },
      "source": [
        "def coefficient_of_determination(x,y,b1,b0):\n",
        "  SS_total = np.sum((y - np.mean(y))**2)\n",
        "  SS_residual = np.sum(((b0 + x*b1) - np.mean(y))**2)\n",
        "  r_squared = SS_residual / SS_total\n",
        "  return r_squared\n",
        "\n",
        "coefficient_of_determination(x,y,b1,b0)"
      ],
      "execution_count": 0,
      "outputs": [
        {
          "output_type": "execute_result",
          "data": {
            "text/plain": [
              "0.7665392849276508"
            ]
          },
          "metadata": {
            "tags": []
          },
          "execution_count": 7
        }
      ]
    },
    {
      "cell_type": "markdown",
      "metadata": {
        "id": "bidke64SAbaC",
        "colab_type": "text"
      },
      "source": [
        "# Evaluate"
      ]
    },
    {
      "cell_type": "markdown",
      "metadata": {
        "id": "tIgtvtSoAbaD",
        "colab_type": "text"
      },
      "source": [
        "Now that we created a linear model for our data, we have to assess how well it fits through residuals (prediction errors). A residual is the distance an individual point is from the line of best fit. "
      ]
    },
    {
      "cell_type": "markdown",
      "metadata": {
        "id": "Qxbt5qbKAbaE",
        "colab_type": "text"
      },
      "source": [
        "## Mean Squared Error (MSE)"
      ]
    },
    {
      "cell_type": "markdown",
      "metadata": {
        "id": "lIGEKiXAAbaF",
        "colab_type": "text"
      },
      "source": [
        "\n",
        "$$\\text{Hypothesis function: } h(x)=b_0 + b_1 x$$\n",
        "\n",
        "$$ \\large{MSE = J(\\theta) = \\frac{1}{n} \\sum (h_\\theta(x^{(i)}) - y^{(i)})^2}$$\n",
        "\n",
        "The mean squared error tells you how close a regression line is to a set of points. It does this by taking the distances from the points to the regression line (these distances are the “errors”, also known as the residuals) and squaring them. The squaring is necessary to remove any negative signs. It also gives more weight to larger differences. It’s called the mean squared error as you’re finding the average of a set of errors. The smaller the means squared error, the closer you are to finding the line of best fit.\n",
        "\n",
        "MSE is the cost function in Linear Regression and is used to optimize weights. The goal is to minimize MSE to improve the accuracy of the model.\n",
        "\n",
        "[Difference between Least absolute deviations (L1) and Mean Squared Error (L2)](http://rishy.github.io/ml/2015/07/28/l1-vs-l2-loss/)"
      ]
    },
    {
      "cell_type": "code",
      "metadata": {
        "id": "WSxZhTaBAbaG",
        "colab_type": "code",
        "outputId": "a8a44277-6569-4c83-b374-b81392141a6a",
        "colab": {
          "base_uri": "https://localhost:8080/",
          "height": 34
        }
      },
      "source": [
        "def cost_function(x,y,b1,b0):\n",
        "  #plug x values into model\n",
        "  mse = np.mean(((b0 + x*b1) - y)**2)\n",
        "  return mse;\n",
        "\n",
        "mse = cost_function(x,y,b1,b0)\n",
        "mse"
      ],
      "execution_count": 0,
      "outputs": [
        {
          "output_type": "execute_result",
          "data": {
            "text/plain": [
              "0.21920128791623805"
            ]
          },
          "metadata": {
            "tags": []
          },
          "execution_count": 8
        }
      ]
    },
    {
      "cell_type": "markdown",
      "metadata": {
        "id": "ytD4111cAbaI",
        "colab_type": "text"
      },
      "source": [
        "## Root Mean Squared Error (RMSE)\n"
      ]
    },
    {
      "cell_type": "markdown",
      "metadata": {
        "id": "mI7IWj_jAbaJ",
        "colab_type": "text"
      },
      "source": [
        "Root Mean Square Error (RMSE) is the standard deviation of the residuals. RMSE is a measure of how spread out these residuals are. In other words, it tells you how concentrated the data is around the line of best fit. "
      ]
    },
    {
      "cell_type": "code",
      "metadata": {
        "id": "YWMHfIPIAbaK",
        "colab_type": "code",
        "outputId": "34822357-575b-4fff-c4f6-690e75f42152",
        "colab": {
          "base_uri": "https://localhost:8080/",
          "height": 34
        }
      },
      "source": [
        "rmse = np.sqrt(mse)\n",
        "rmse"
      ],
      "execution_count": 0,
      "outputs": [
        {
          "output_type": "execute_result",
          "data": {
            "text/plain": [
              "0.46818937185314025"
            ]
          },
          "metadata": {
            "tags": []
          },
          "execution_count": 9
        }
      ]
    },
    {
      "cell_type": "markdown",
      "metadata": {
        "id": "Eu-8bzjBAbaN",
        "colab_type": "text"
      },
      "source": [
        "## Residual Plot"
      ]
    },
    {
      "cell_type": "code",
      "metadata": {
        "id": "_3VPy0_cAbaO",
        "colab_type": "code",
        "outputId": "3c69607c-98c8-49b7-d623-afc92dbf8827",
        "colab": {
          "base_uri": "https://localhost:8080/",
          "height": 296
        }
      },
      "source": [
        "plt.scatter(np.arange(x.shape[0]), y - (b0 + x*b1))\n",
        "plt.ylabel('vertical offset')\n",
        "plt.xlabel('index')"
      ],
      "execution_count": 0,
      "outputs": [
        {
          "output_type": "execute_result",
          "data": {
            "text/plain": [
              "Text(0.5, 0, 'index')"
            ]
          },
          "metadata": {
            "tags": []
          },
          "execution_count": 10
        },
        {
          "output_type": "display_data",
          "data": {
            "image/png": "[encoded data removed]",
            "text/plain": [
              "<Figure size 432x288 with 1 Axes>"
            ]
          },
          "metadata": {
            "tags": []
          }
        }
      ]
    },
    {
      "cell_type": "markdown",
      "metadata": {
        "id": "rfyogzmHAbaT",
        "colab_type": "text"
      },
      "source": [
        "## Gradient Descent for Linear Regression"
      ]
    },
    {
      "cell_type": "markdown",
      "metadata": {
        "id": "OKOoPs1_AbaU",
        "colab_type": "text"
      },
      "source": [
        "To minimize MSE, use Gradient Descent to calculate the gradient of the cost function. [Click here for Gradient Descent explained.](https://ml-cheatsheet.readthedocs.io/en/latest/gradient_descent.html)"
      ]
    },
    {
      "cell_type": "markdown",
      "metadata": {
        "id": "fWGCoKANAbaV",
        "colab_type": "text"
      },
      "source": [
        "Given the rewritten cost function (MSE) $$ f(m,b) = J(\\theta) = \\frac{1}{n} \\sum (h_\\theta(x^{(i)}) - y^{(i)})^2$$\n",
        "\n",
        "The gradient can be calculated as $$ f'(m,b) = \\frac{\\partial}{\\partial{\\theta_0}}J(\\theta_0,\\theta_1) = \\begin{bmatrix} \\frac{d}{dm} \\\\ \\frac{d}{db} \\end{bmatrix} = \\begin{bmatrix} \\frac{1}{N} \\sum 2x^{(i)}(h_\\theta(x^{(i)}) - y^{(i)}) \\\\ \\frac{1}{N} \\sum 2(h_\\theta(x^{(i)}) - y^{(i)} \\end{bmatrix}$$\n",
        "\n",
        "To solve for the gradient, we iterate through our data points using our new m and b values and compute the partial derivatives. This new gradient tells us the slope of our cost function at our current position (current parameter values) and the direction we should move to update our parameters. The size of our update is controlled by the learning rate.\n",
        "\n",
        "$$ \\theta_0 := \\theta_0 - \\alpha \\frac{\\partial}{\\partial{\\theta_0}}J(\\theta_0,\\theta_1)  \\\\  \\theta_1 := \\theta_1 - \\alpha \\frac{\\partial}{\\partial{\\theta_1}}J(\\theta_0,\\theta_1) $$\n",
        "\n",
        "$b_1$ is the weight and $b_0$ is the bias"
      ]
    },
    {
      "cell_type": "code",
      "metadata": {
        "id": "_cY0_exBAbaX",
        "colab_type": "code",
        "colab": {}
      },
      "source": [
        "b1,b0 = 100,140\n",
        "def update_weights(x,y,b1,b0, learning_rate): #b1 is weight, b0 is bias\n",
        "  #derivatives of weight and bias\n",
        "  gradient_b1 = 0\n",
        "  gradient_b0 = 0\n",
        "  N = len(x)\n",
        "  for i in range(N):\n",
        "    # Calculate partial derivatives\n",
        "    # -2x(y - (b1*x + b0))\n",
        "    gradient_b1 += 2 * x[i] *((b1*x[i] + b0) - y[i])\n",
        "    \n",
        "    # -2(y - (b1*x + b0))\n",
        "    gradient_b0 += 2*((b1*x[i] + b0) - y[i])\n",
        "\n",
        "  # We subtract because the derivatives point in direction of steepest ascent\n",
        "  b1 -= (gradient_b1 / N) * learning_rate\n",
        "  b0 -= (gradient_b0 / N) * learning_rate\n",
        "\n",
        "  return b1,b0\n",
        "    "
      ],
      "execution_count": 0,
      "outputs": []
    },
    {
      "cell_type": "markdown",
      "metadata": {
        "id": "exwnZIvlAbaa",
        "colab_type": "text"
      },
      "source": [
        "### Training"
      ]
    },
    {
      "cell_type": "markdown",
      "metadata": {
        "id": "FzdkowdAAbaa",
        "colab_type": "text"
      },
      "source": [
        "Training a model is the process of iteratively improving your prediction equation by looping through the dataset multiple times, each time updating the weight and bias values in the direction indicated by the slope of the cost function (gradient). Training is complete when we reach an acceptable error threshold, or when subsequent training iterations fail to reduce our cost.\n",
        "\n",
        "Before training we need to initialize our weights (set default values), set our hyperparameters (learning rate and number of iterations), and prepare to log our progress over each iteration."
      ]
    },
    {
      "cell_type": "code",
      "metadata": {
        "scrolled": false,
        "id": "iJh_DGjPAbad",
        "colab_type": "code",
        "outputId": "60add012-fc93-4567-854c-a35c4f219496",
        "colab": {
          "base_uri": "https://localhost:8080/",
          "height": 187
        }
      },
      "source": [
        "def train(x,y,b1,b0,learning_rate,iterations): #b1 is weight, b0 is bias\n",
        "  cost_history = [] #use later to see how cost is being minimized\n",
        "  \n",
        "  for i in range(iterations):\n",
        "    b1,b0 = update_weights(x, y, b1, b0, learning_rate)\n",
        "    cost = cost_function(x,y,b1,b0)\n",
        "    cost_history.append(cost)\n",
        "      \n",
        "    # Log Progress\n",
        "    if i % 100 == 0:\n",
        "      print(\"iteration={:d}    weight={:.2f}    bias={:.4f}    cost={}\".format(i, b1, b0, cost))\n",
        "    \n",
        "  return b1, b0, cost_history\n",
        "b1,b0,cost_history = train(x,y,b1,b0,0.000001,1000)"
      ],
      "execution_count": 0,
      "outputs": [
        {
          "output_type": "stream",
          "text": [
            "iteration=0    weight=98.02    bias=139.9801    cost=94719636.86279106\n",
            "iteration=100    weight=13.57    bias=139.1350    cost=1678191.5490354095\n",
            "iteration=200    weight=2.33    bias=139.0225    cost=29733.55980093802\n",
            "iteration=300    weight=0.84    bias=139.0075    cost=527.0730239166669\n",
            "iteration=400    weight=0.64    bias=139.0055    cost=9.608292979820972\n",
            "iteration=500    weight=0.61    bias=139.0052    cost=0.4401328422680557\n",
            "iteration=600    weight=0.61    bias=139.0052    cost=0.277696339048588\n",
            "iteration=700    weight=0.61    bias=139.0052    cost=0.27481837475539966\n",
            "iteration=800    weight=0.61    bias=139.0052    cost=0.27476738232787584\n",
            "iteration=900    weight=0.61    bias=139.0052    cost=0.27476647665837617\n"
          ],
          "name": "stdout"
        }
      ]
    },
    {
      "cell_type": "markdown",
      "metadata": {
        "id": "OylA_imvQukS",
        "colab_type": "text"
      },
      "source": [
        "### Plot iteration vs cost"
      ]
    },
    {
      "cell_type": "code",
      "metadata": {
        "id": "-c3HpZodObDS",
        "colab_type": "code",
        "outputId": "901de95b-a60d-4989-fb64-b8bd44a4fa0b",
        "colab": {
          "base_uri": "https://localhost:8080/",
          "height": 307
        }
      },
      "source": [
        "plt.plot(list(range(1000)),cost_history)\n",
        "plt.ylabel('cost')\n",
        "plt.xlabel('iteration')"
      ],
      "execution_count": 0,
      "outputs": [
        {
          "output_type": "execute_result",
          "data": {
            "text/plain": [
              "Text(0.5, 0, 'iteration')"
            ]
          },
          "metadata": {
            "tags": []
          },
          "execution_count": 13
        },
        {
          "output_type": "display_data",
          "data": {
            "image/png": "[encoded data removed]",
            "text/plain": [
              "<Figure size 432x288 with 1 Axes>"
            ]
          },
          "metadata": {
            "tags": []
          }
        }
      ]
    },
    {
      "cell_type": "markdown",
      "metadata": {
        "id": "P7xf5ecaAban",
        "colab_type": "text"
      },
      "source": [
        "# Multiple Linear Regression"
      ]
    }
  ]
}